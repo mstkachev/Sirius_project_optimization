{
 "cells": [
  {
   "cell_type": "markdown",
   "metadata": {},
   "source": [
    "### (c) Igor Sokolov"
   ]
  },
  {
   "cell_type": "code",
   "execution_count": 84,
   "metadata": {},
   "outputs": [
    {
     "name": "stdout",
     "output_type": "stream",
     "text": [
      "The autoreload extension is already loaded. To reload it, use:\n",
      "  %reload_ext autoreload\n"
     ]
    }
   ],
   "source": [
    "%load_ext autoreload\n",
    "%autoreload "
   ]
  },
  {
   "cell_type": "code",
   "execution_count": 58,
   "metadata": {},
   "outputs": [],
   "source": [
    "import numpy as np\n",
    "import matplotlib.pyplot as plt\n",
    "import scipy.stats as sts\n",
    "import math\n",
    "import pandas as pd\n",
    "import matplotlib\n",
    "from matplotlib import patches\n",
    "from sympy import *\n",
    "import datetime\n",
    "from functools import reduce\n",
    "from sklearn.datasets import make_spd_matrix, make_sparse_spd_matrix\n",
    "import scipy\n",
    "\n",
    "from scipy.optimize import minimize, root_scalar\n",
    "\n",
    "import sys\n",
    "import os\n",
    "\n",
    "import itertools\n",
    "from scipy.special import binom\n",
    "from scipy.stats import ortho_group\n",
    "\n",
    "from sklearn.model_selection import train_test_split\n",
    "\n",
    "from sklearn.linear_model import LogisticRegression\n",
    "from sklearn.metrics import f1_score, accuracy_score\n",
    "\n",
    "import pandas as pd\n",
    "import numpy as np\n",
    "from matplotlib import pyplot as plt\n",
    "import math\n",
    "import sklearn.metrics \n",
    "from sklearn.linear_model import LogisticRegression\n",
    "from sklearn.feature_extraction import DictVectorizer as DV\n",
    "\n",
    "\n",
    "from sklearn.linear_model import LogisticRegression\n",
    "from sklearn.model_selection import GridSearchCV\n",
    "from sklearn.metrics import roc_auc_score,roc_curve\n",
    "from sklearn.preprocessing import StandardScaler\n",
    "from sklearn.model_selection import StratifiedKFold, KFold\n",
    "\n",
    "from sklearn.model_selection import train_test_split\n",
    "from sklearn.datasets import load_svmlight_file\n",
    "\n",
    "from itertools import cycle\n",
    "from contextlib import redirect_stdout\n",
    "from functools import reduce"
   ]
  },
  {
   "cell_type": "code",
   "execution_count": 23,
   "metadata": {},
   "outputs": [],
   "source": [
    "from logreg_functions import *"
   ]
  },
  {
   "cell_type": "markdown",
   "metadata": {},
   "source": [
    "### Do a dataset preprocessing"
   ]
  },
  {
   "cell_type": "code",
   "execution_count": 82,
   "metadata": {},
   "outputs": [
    {
     "name": "stdout",
     "output_type": "stream",
     "text": [
      "(8124,) [ 1.  1.  1. -1.  1.]\n",
      "Data shape:  (8124, 112)\n"
     ]
    }
   ],
   "source": [
    "%%bash\n",
    "python3 generate_data.py --dataset mushrooms --loss_func log-reg --homogeneous 1"
   ]
  },
  {
   "cell_type": "markdown",
   "metadata": {},
   "source": [
    "### Generate the script"
   ]
  },
  {
   "cell_type": "code",
   "execution_count": 190,
   "metadata": {},
   "outputs": [
    {
     "name": "stdout",
     "output_type": "stream",
     "text": [
      "#!/bin/bash\n",
      "python3 local_spider_homo.py --dataset mushrooms --num_workers 20 --num_local_steps 10 --batch_size 10 --continue 1 --max_it 3 --launch_number 1 --tol 1e-12\n",
      "\n"
     ]
    }
   ],
   "source": [
    "LAUNCH_NUMBERS = 2\n",
    "launch_number_ar = np.arange (1, LAUNCH_NUMBERS)\n",
    "\n",
    "project_path = os.getcwd() + \"/\"\n",
    "experiment_name_ar = [\"local_spider_homo\"]\n",
    "dataset_ar = [\"mushrooms\"]\n",
    "\n",
    "batch_ar = [20, 50, 100]\n",
    "batch_ar = [10]\n",
    "\n",
    "num_workers_ar = [20, 50, 100]\n",
    "num_workers_ar = [20]\n",
    "\n",
    "#num_local_steps_ar = [10, 20, 30, 50, 100 ]\n",
    "num_local_steps_ar = [10]\n",
    "\n",
    "tol = 1e-12\n",
    "release = True\n",
    "max_it = 3\n",
    "is_continue = 1\n",
    "\n",
    "\n",
    "shell_script_name = \"local_spider1\"\n",
    "\n",
    "with open(shell_script_name + \".sh\", 'w') as f:\n",
    "    with redirect_stdout(f):\n",
    "        #print (\"%%bash\")\n",
    "        print (\"#!/bin/bash\")\n",
    "\n",
    "        for launch_number in launch_number_ar:\n",
    "            for i, (experiment_name, dataset, num_workers, num_local_steps, batch_size ) in \\\n",
    "            enumerate (itertools.product (experiment_name_ar, dataset_ar, num_workers_ar, num_local_steps_ar, batch_ar)):\n",
    "                print (\"python3 {0}.py --dataset {1} --num_workers {2} --num_local_steps {3} --batch_size {4} --continue {5} --max_it {6} --launch_number {7} --tol {8}\".\n",
    "                format(experiment_name, dataset, num_workers, num_local_steps, batch_size , is_continue, max_it, launch_number, tol))\n",
    "\n",
    "                #show the script\n",
    "f = open(shell_script_name + \".sh\", 'r')\n",
    "print (f.read())\n",
    "f.close()\n",
    "\n"
   ]
  },
  {
   "cell_type": "code",
   "execution_count": 189,
   "metadata": {},
   "outputs": [
    {
     "name": "stdout",
     "output_type": "stream",
     "text": [
      "2020-08-20 22:06:11\n",
      "local_spider_homo_10_20_10\n",
      "local_spider_homo_10_20_10, global_it: 0, it_comm: 10 , epoch: 0.122, f_grad_norm: 1.6582\n",
      "local_spider_homo_10_20_10, global_it: 0, it_comm: 20 , epoch: 0.2439, f_grad_norm: 1.6416\n",
      "local_spider_homo_10_20_10, global_it: 0, it_comm: 30 , epoch: 0.3659, f_grad_norm: 1.6243\n",
      "local_spider_homo_10_20_10, global_it: 0, it_comm: 40 , epoch: 0.4878, f_grad_norm: 1.6063\n",
      "local_spider_homo_10_20_10, global_it: 0, it_comm: 50 , epoch: 0.6098, f_grad_norm: 1.5877\n",
      "local_spider_homo_10_20_10, global_it: 0, it_comm: 60 , epoch: 0.7317, f_grad_norm: 1.5685\n",
      "local_spider_homo_10_20_10, global_it: 0, it_comm: 70 , epoch: 0.8537, f_grad_norm: 1.5487\n",
      "local_spider_homo_10_20_10, global_it: 0, it_comm: 80 , epoch: 0.9756, f_grad_norm: 1.5285\n",
      "local_spider_homo_10_20_10, global_it: 1, it_comm: 90 , epoch: 1.0976, f_grad_norm: 1.5057\n",
      "local_spider_homo_10_20_10, global_it: 1, it_comm: 100 , epoch: 1.2195, f_grad_norm: 1.4846\n",
      "local_spider_homo_10_20_10, global_it: 1, it_comm: 110 , epoch: 1.3415, f_grad_norm: 1.4629\n",
      "local_spider_homo_10_20_10, global_it: 1, it_comm: 120 , epoch: 1.4634, f_grad_norm: 1.4408\n",
      "local_spider_homo_10_20_10, global_it: 1, it_comm: 130 , epoch: 1.5854, f_grad_norm: 1.4184\n",
      "local_spider_homo_10_20_10, global_it: 1, it_comm: 140 , epoch: 1.7073, f_grad_norm: 1.3958\n",
      "local_spider_homo_10_20_10, global_it: 1, it_comm: 150 , epoch: 1.8293, f_grad_norm: 1.3728\n",
      "local_spider_homo_10_20_10, global_it: 1, it_comm: 160 , epoch: 1.9512, f_grad_norm: 1.3498\n",
      "local_spider_homo_10_20_10, global_it: 2, it_comm: 170 , epoch: 2.0732, f_grad_norm: 1.3242\n",
      "local_spider_homo_10_20_10, global_it: 2, it_comm: 180 , epoch: 2.1951, f_grad_norm: 1.3007\n",
      "local_spider_homo_10_20_10, global_it: 2, it_comm: 190 , epoch: 2.3171, f_grad_norm: 1.2771\n",
      "local_spider_homo_10_20_10, global_it: 2, it_comm: 200 , epoch: 2.439, f_grad_norm: 1.2535\n",
      "local_spider_homo_10_20_10, global_it: 2, it_comm: 210 , epoch: 2.561, f_grad_norm: 1.23\n",
      "local_spider_homo_10_20_10, global_it: 2, it_comm: 220 , epoch: 2.6829, f_grad_norm: 1.2066\n",
      "local_spider_homo_10_20_10, global_it: 2, it_comm: 230 , epoch: 2.8049, f_grad_norm: 1.1834\n",
      "local_spider_homo_10_20_10, global_it: 2, it_comm: 240 , epoch: 2.9268, f_grad_norm: 1.1604\n"
     ]
    }
   ],
   "source": [
    "%%bash\n",
    "\n",
    "bash local_spider0.sh"
   ]
  },
  {
   "cell_type": "code",
   "execution_count": 180,
   "metadata": {},
   "outputs": [
    {
     "name": "stdout",
     "output_type": "stream",
     "text": [
      "Process is interrupted.\n"
     ]
    }
   ],
   "source": [
    "%%bash\n",
    "\n",
    "bash local_spider1.sh"
   ]
  },
  {
   "cell_type": "markdown",
   "metadata": {},
   "source": [
    "### plot "
   ]
  },
  {
   "cell_type": "code",
   "execution_count": 152,
   "metadata": {},
   "outputs": [],
   "source": [
    "def myrepr(x):\n",
    "    return repr(round(x, 2)).replace('.',',') if isinstance(x, float) else repr(x)"
   ]
  },
  {
   "cell_type": "code",
   "execution_count": 192,
   "metadata": {},
   "outputs": [
    {
     "data": {
      "image/png": "[encoded data removed]",
      "text/plain": [
       "<Figure size 936x648 with 1 Axes>"
      ]
     },
     "metadata": {
      "needs_background": "light"
     },
     "output_type": "display_data"
    }
   ],
   "source": [
    "# upload whole data\n",
    "def export_legend(legend, filename=\"legend.pdf\", expand=[-5, -5, 5, 5]):\n",
    "    fig = legend.figure\n",
    "    fig.canvas.draw()\n",
    "    bbox = legend.get_window_extent()\n",
    "    bbox = bbox.from_extents(*(bbox.extents + np.array(expand)))\n",
    "    bbox = bbox.transformed(fig.dpi_scale_trans.inverted())\n",
    "    fig.savefig(filename, dpi=\"figure\", bbox_inches=bbox)\n",
    "\n",
    "\n",
    "project_path = os.getcwd() + \"/\"\n",
    "\n",
    "experiment_name_ar = [\"local_spider_homo\"]\n",
    "dataset_ar = [\"mushrooms\"]\n",
    "loss_func = \"log-reg\"\n",
    "\n",
    "\n",
    "\n",
    "batch_ar = [10]\n",
    "num_workers_ar = [20]\n",
    "num_local_steps_ar = [10]\n",
    "\n",
    "LAUNCH_NUMBERS = 2\n",
    "launch_number_ar = np.arange(1, LAUNCH_NUMBERS)\n",
    "# num_workers_ar = [20, 50, 100]\n",
    "#num_local_steps_ar = [10, 20, 30, 50, 100]\n",
    "\n",
    "tol = 1e-12\n",
    "release = True\n",
    "max_it = 100\n",
    "is_continue = 0\n",
    "\n",
    "w_init = {}\n",
    "la_ar = {}\n",
    "info_num_ar = {}\n",
    "loss_ar = {}\n",
    "epochs_ar = {}\n",
    "its_comm_ar = {}\n",
    "f_grad_norms_ar = {}\n",
    "label_ar = {}\n",
    "\n",
    "experiment_name = \"local_spider_homo\"\n",
    "\n",
    "experiments = []\n",
    "for i, (experiment_name, dataset, num_workers, num_local_steps, batch_size) in \\\n",
    "        enumerate(itertools.product(experiment_name_ar, dataset_ar, num_workers_ar, num_local_steps_ar, batch_ar)):\n",
    "    \n",
    "    \"\"\"\n",
    "    if experiment_name in experiments:\n",
    "        continue\n",
    "    else:\n",
    "        experiments.append(experiment_name)\n",
    "    \"\"\"\n",
    "    \n",
    "    if experiment not in experiments:\n",
    "        experiments.append(experiment_name)\n",
    "        \n",
    "    experiment = '{0}_{1}_{2}_{3}'.format(experiment_name, batch_size, num_workers, num_local_steps)\n",
    "\n",
    "    id_label = experiment\n",
    "    label = id_label\n",
    "\n",
    "    id_str = \"{0}_{1}\".format(dataset, experiment)  #####\n",
    "    id_func = \"{0}_{1}\".format(dataset, loss_func)  #####\n",
    "    id_dataset = \"{0}\".format(dataset)  #####\n",
    "\n",
    "    logs_path = project_path + \"logs1_{0}_{1}/\".format(dataset, experiment)\n",
    "    data_path = project_path + \"data_{0}/\".format(dataset)\n",
    "    plot_path = project_path + \"plot_{0}/\".format(dataset)\n",
    "\n",
    "    if os.path.exists(plot_path) == False:\n",
    "        os.mkdir(plot_path)\n",
    "\n",
    "    if os.path.isfile(data_path + 'data_info.npy'):\n",
    "        data_info = np.load(data_path + 'data_info.npy')\n",
    "        L = data_info[0]\n",
    "    else:\n",
    "        raise ValueError(\"cannot load data_info.npy\")\n",
    "\n",
    "    if os.path.isfile(logs_path + 'norms' + \"_\" + experiment + \".npy\"):\n",
    "        f_grad_norms_ar[id_str] = np.load(logs_path + 'norms' + '_' + experiment + \".npy\")\n",
    "    else:\n",
    "        raise ValueError(\"cannot load norms info\")\n",
    "\n",
    "    if os.path.isfile(logs_path + 'communication' + \"_\" + experiment + \".npy\"):\n",
    "        its_comm_ar[id_str] = np.load(logs_path + 'communication' + '_' + experiment + \".npy\")\n",
    "    else:\n",
    "        raise ValueError(\"cannot load communication info\")\n",
    "\n",
    "    if os.path.isfile(logs_path + 'loss' + \"_\" + experiment + \".npy\"):\n",
    "        loss_ar[id_str] = np.load(logs_path + 'loss' + '_' + experiment + \".npy\")\n",
    "        # print(id_str, loss_ar[id_str].shape)\n",
    "    else:\n",
    "        print(id_str)\n",
    "        raise ValueError(\"cannot load loss info\")\n",
    "\n",
    "    if os.path.isfile(logs_path + 'epochs' + \"_\" + experiment + \".npy\"):\n",
    "        epochs_ar[id_str] = np.load(logs_path + 'epochs' + '_' + experiment + \".npy\")\n",
    "    else:\n",
    "        raise ValueError(\"cannot load epochs info\")\n",
    "\n",
    "    # print (label)\n",
    "    label_ar[id_label] = label\n",
    "\n",
    "keys = list(label_ar.keys())\n",
    "# print (len(keys))\n",
    "\n",
    "values_all_posible = [\"o\", \"*\", \"v\", \"^\", \"<\", \">\", \"s\", \"p\", \"P\", \"h\", \"H\", \"+\", \"x\", \"X\", \"D\", \"d\", \"|\", \"_\"]\n",
    "\n",
    "len_batch_ar = len(batch_ar)\n",
    "n_experiments_per_plot = int(len(experiments) / len_batch_ar)\n",
    "\n",
    "values = values_all_posible[:n_experiments_per_plot]\n",
    "values = reduce(lambda x, y: x + y, [[values[i]] * len_batch_ar for i in range(len(values))])\n",
    "\n",
    "marker_ar = dict(zip(keys, values))\n",
    "\n",
    "colors_all_posible = ['blue', 'red', 'orange', 'aqua', 'violet', 'darkorange',\n",
    "                      'cornflowerblue', 'darkgreen',\n",
    "                      'coral', 'lime',\n",
    "                      'darkgreen', 'goldenrod', 'maroon',\n",
    "                      'black', 'brown', 'yellowgreen'\n",
    "                      ]\n",
    "\n",
    "colors = colors_all_posible[:n_experiments_per_plot]\n",
    "colors = reduce(lambda x, y: x + y, [[colors[i]] * len_batch_ar for i in range(len(colors))])\n",
    "\n",
    "color_ar = dict(zip(keys, colors))\n",
    "\n",
    "# what dow you want to show in the plot\n",
    "\n",
    "colors = ['blue', 'red', 'orange', 'aqua', 'violet', 'darkorange',\n",
    "          'cornflowerblue', 'darkgreen',\n",
    "          'coral', 'lime',\n",
    "          'darkgreen', 'goldenrod', 'maroon',\n",
    "          'black', 'brown', 'yellowgreen'\n",
    "          ]\n",
    "\n",
    "tol = 1e-8\n",
    "x_axis = \"iter\"\n",
    "\n",
    "n_iter_ar = {}\n",
    "n_iter_time_ar = {}  # here I store x_axis for time = time in sec\n",
    "for j, batch in enumerate(batch_ar):\n",
    "    n_iter = []\n",
    "    for i, (experiment_name, dataset, num_workers, num_local_steps, batch_size) in \\\n",
    "            enumerate(itertools.product(experiment_name_ar, dataset_ar, num_workers_ar, num_local_steps_ar, batch_ar)):\n",
    "\n",
    "        experiment = '{0}_{1}_{2}_{3}'.format(experiment_name, batch_size, num_workers, num_local_steps)\n",
    "\n",
    "        id_label = experiment\n",
    "        id_str = \"{0}_{1}\".format(dataset, experiment)\n",
    "        label = id_label\n",
    "        n_iter.append(its_comm_ar[id_str].shape[0])\n",
    "\n",
    "    #n_iter_ar[batch] = int(1.2 * min(n_iter))\n",
    "\n",
    "experiments = []\n",
    "fig = plt.figure()\n",
    "\n",
    "####################################################################################################################################################################################\n",
    "legend_data = []\n",
    "line_labels = []\n",
    "marker_size = 20\n",
    "\n",
    "for j, batch in enumerate(batch_ar):\n",
    "    for i, (experiment_name, dataset, num_workers, num_local_steps, batch_size) in \\\n",
    "            enumerate(itertools.product(experiment_name_ar, dataset_ar, num_workers_ar, num_local_steps_ar, batch_ar)):\n",
    "\n",
    "        # print (experiment_name, dataset, loss_func, sampling_kind, step_type, batch)\n",
    "        \"\"\"\n",
    "        if experiment_name in experiments:\n",
    "            continue\n",
    "        else:\n",
    "            experiments.append(experiment_name)\n",
    "        \"\"\"\n",
    "        \n",
    "        if experiment not in experiments:\n",
    "            experiments.append(experiment_name)\n",
    "        \n",
    "        experiment = '{0}_{1}_{2}_{3}'.format(experiment_name, batch_size, num_workers, num_local_steps)\n",
    "\n",
    "        id_label = experiment\n",
    "        label = id_label\n",
    "\n",
    "        id_str = \"{0}_{1}\".format(dataset, experiment)  #####\n",
    "        id_func = \"{0}_{1}\".format(dataset, loss_func)  #####\n",
    "        id_dataset = \"{0}\".format(dataset)  #####\n",
    "\n",
    "        logs_path = project_path + \"logs1_{0}_{1}/\".format(dataset, experiment)\n",
    "        data_path = project_path + \"data_{0}/\".format(dataset)\n",
    "\n",
    "\n",
    "        if x_axis == \"epochs\":\n",
    "            plt.xlabel('epochs')\n",
    "            if ((id_str in epochs_ar) and id_str in loss_ar):\n",
    "\n",
    "                markers_on = its_comm_ar[id_str][its_comm_ar[id_str] % 20000 == 0]\n",
    "\n",
    "                plt.plot(epochs_ar[id_str], f_grad_norms_ar[id_str], color=color_ar[id_label], marker=marker_ar[id_label],\n",
    "                         markersize=marker_size, markevery=list(markers_on), label=label_ar[id_label])\n",
    "            else:\n",
    "                raise ValueError(\"can not plot\")\n",
    "        elif x_axis == \"iter\":\n",
    "            plt.xlabel('communications')\n",
    "            if ((id_str in its_comm_ar) and id_str in loss_ar):\n",
    "\n",
    "                markers_on = its_comm_ar[id_str][its_comm_ar[id_str] % (int(len(its_comm_ar[id_str][:-(1 + 2 * i)]) / 10)) == 0]\n",
    "                legend_data.append(\n",
    "                    plt.plot(its_comm_ar[id_str], f_grad_norms_ar[id_str], color=color_ar[id_label], marker=marker_ar[id_label],\n",
    "                             markersize=marker_size, markevery=list(markers_on), label=label_ar[id_label])[0])\n",
    "                line_labels.append(label_ar[id_label])\n",
    "            else:\n",
    "                raise ValueError(\"can not plot\")\n",
    "\n",
    "\n",
    "\n",
    "    plt.rcParams[\"figure.figsize\"] = [26, 20]\n",
    "    #plt.rcParams[\"figure.figsize\"] = [26, 20]\n",
    "    \n",
    "    if j == 0:\n",
    "        plt.ylabel(r\"$f(x) - f(x^*)$\")\n",
    "\n",
    "    size = 20\n",
    "    title = r\"${0}$\".format(loss_func)\n",
    "    plt.rcParams['font.family'] = 'serif'\n",
    "    plt.rcParams['font.serif'] = 'FreeSerif'\n",
    "    plt.rcParams['lines.linewidth'] = 4\n",
    "    # plt.rcParams['lines.markersize'] = 10\n",
    "    plt.rcParams['xtick.labelsize'] = size  # 40\n",
    "    plt.rcParams['ytick.labelsize'] = size  # 40\n",
    "    plt.rcParams['legend.fontsize'] = size  # 30\n",
    "\n",
    "    plt.rcParams['axes.titlesize'] = size  # 40\n",
    "    plt.rcParams['axes.labelsize'] = size  # 40\n",
    "    plt.rcParams[\"figure.figsize\"] = [13,9]\n",
    "    plt.yscale('log')\n",
    "    # plt.xscale('log')\n",
    "    dataset = \"mushrooms\"\n",
    "    plt.title(r\"$\\tau = {0}; {1}$\".format(batch, dataset))\n",
    "    #plt.ticklabel_format(axis='y', style='sci', scilimits=(1, 4))\n",
    "    #plt.ticklabel_format(axis='x', style='sci', scilimits=(1, 4))\n",
    "    #\n",
    "\n",
    "    plt.tight_layout()\n",
    "    plot_path = project_path + \"plot_{0}/\".format(dataset)\n",
    "    \n",
    "    legend = plt.legend(loc=\"upper right\", framealpha=0.5)\n",
    "    \n",
    "    #legend = plt.legend(loc=\"lower center\", framealpha=0.5, ncol=3, bbox_to_anchor=(0.45, -1.2))\n",
    "    plt.savefig(plot_path + \"{0}_{1}_{2}_{3}_{4}_{5}.pdf\".format('-'.join(experiment_name_ar), '-'.join(list(map(str,batch_ar))),\n",
    "                                                         '-'.join(list(map(str,num_workers_ar))), '-'.join(list(map(str,num_local_steps_ar))),\n",
    "                                                                 x_axis, loss_func))\n",
    "    plt.show()\n",
    "    # plt.savefig(plot_path + \"{0}_{1}_{2}_{3}.pdf\".format('-'.join(experiment_name_ar), x_axis, loss_func, batch))\n",
    "    #export_legend(legend)\n",
    "\n",
    "# plt.savefig(plot_path + \"{0}_{1}_{2}.pdf\".format('-'.join(experiment_name_ar), x_axis, loss_func))\n",
    "\n",
    "\n",
    "# plt.plot()"
   ]
  },
  {
   "cell_type": "code",
   "execution_count": 159,
   "metadata": {},
   "outputs": [],
   "source": [
    "# <experiment_name>_<batch_size>_<num_workers>_<num_local_steps> "
   ]
  },
  {
   "cell_type": "code",
   "execution_count": 168,
   "metadata": {},
   "outputs": [
    {
     "data": {
      "text/plain": [
       "dict_keys(['mushrooms_local_spider_homo_10_20_10', 'mushrooms_local_spider_homo_10_20_20', 'mushrooms_local_spider_homo_10_20_30', 'mushrooms_local_spider_homo_10_20_50', 'mushrooms_local_spider_homo_10_20_100'])"
      ]
     },
     "execution_count": 168,
     "metadata": {},
     "output_type": "execute_result"
    }
   ],
   "source": [
    "f_grad_norms_ar.keys()"
   ]
  },
  {
   "cell_type": "code",
   "execution_count": null,
   "metadata": {},
   "outputs": [],
   "source": []
  }
 ],
 "metadata": {
  "kernelspec": {
   "display_name": "Python 3",
   "language": "python",
   "name": "python3"
  },
  "language_info": {
   "codemirror_mode": {
    "name": "ipython",
    "version": 3
   },
   "file_extension": ".py",
   "mimetype": "text/x-python",
   "name": "python",
   "nbconvert_exporter": "python",
   "pygments_lexer": "ipython3",
   "version": "3.7.3"
  }
 },
 "nbformat": 4,
 "nbformat_minor": 2
}
